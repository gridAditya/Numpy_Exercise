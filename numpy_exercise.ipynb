{
 "cells": [
  {
   "cell_type": "markdown",
   "metadata": {},
   "source": [
    "# 100 numpy exercises\n",
    "\n",
    "This is a collection of exercises that have been collected in the numpy mailing list, on stack overflow\n",
    "and in the numpy documentation. The goal of this collection is to offer a quick reference for both old\n",
    "and new users but also to provide a set of exercises for those who teach.\n",
    "\n",
    "\n",
    "If you find an error or think you've a better way to solve some of them, feel\n",
    "free to open an issue at <https://github.com/rougier/numpy-100>.\n",
    "\n",
    "File automatically generated. See the documentation to update questions/answers/hints programmatically.\n",
    "\n",
    "Run the `initialize.py` module, then for each question you can query the\n",
    "answer or an hint with `hint(n)` or `answer(n)` for `n` question number."
   ]
  },
  {
   "cell_type": "code",
   "execution_count": 3,
   "metadata": {},
   "outputs": [],
   "source": [
    "%run initialise.py"
   ]
  },
  {
   "cell_type": "markdown",
   "metadata": {},
   "source": [
    "#### 1. Import the numpy package under the name `np` (★☆☆)"
   ]
  },
  {
   "cell_type": "code",
   "execution_count": 4,
   "metadata": {},
   "outputs": [],
   "source": [
    "import numpy as np\n",
    "import math"
   ]
  },
  {
   "cell_type": "markdown",
   "metadata": {},
   "source": [
    "#### 2. Print the numpy version and the configuration (★☆☆)"
   ]
  },
  {
   "cell_type": "code",
   "execution_count": 5,
   "metadata": {},
   "outputs": [
    {
     "name": "stdout",
     "output_type": "stream",
     "text": [
      "1.24.3\n"
     ]
    }
   ],
   "source": [
    "print(np.__version__)"
   ]
  },
  {
   "cell_type": "markdown",
   "metadata": {},
   "source": [
    "#### 3. Create a null vector of size 10 (★☆☆)"
   ]
  },
  {
   "cell_type": "code",
   "execution_count": 6,
   "metadata": {},
   "outputs": [
    {
     "name": "stdout",
     "output_type": "stream",
     "text": [
      "[0. 0. 0. 0. 0. 0. 0. 0. 0. 0.]\n"
     ]
    }
   ],
   "source": [
    "v1 = np.zeros(10)\n",
    "print(v1)"
   ]
  },
  {
   "cell_type": "markdown",
   "metadata": {},
   "source": [
    "#### 4. How to find the memory size of any array (★☆☆)"
   ]
  },
  {
   "cell_type": "code",
   "execution_count": 7,
   "metadata": {},
   "outputs": [
    {
     "name": "stdout",
     "output_type": "stream",
     "text": [
      "10\n",
      "80\n"
     ]
    }
   ],
   "source": [
    "print(v1.size)\n",
    "print(v1.nbytes)"
   ]
  },
  {
   "cell_type": "markdown",
   "metadata": {},
   "source": [
    "#### 5. How to get the documentation of the numpy add function from the command line? (★☆☆)"
   ]
  },
  {
   "cell_type": "code",
   "execution_count": 8,
   "metadata": {},
   "outputs": [
    {
     "name": "stdout",
     "output_type": "stream",
     "text": [
      "add(x1, x2, /, out=None, *, where=True, casting='same_kind', order='K', dtype=None, subok=True[, signature, extobj])\n",
      "\n",
      "Add arguments element-wise.\n",
      "\n",
      "Parameters\n",
      "----------\n",
      "x1, x2 : array_like\n",
      "    The arrays to be added.\n",
      "    If ``x1.shape != x2.shape``, they must be broadcastable to a common\n",
      "    shape (which becomes the shape of the output).\n",
      "out : ndarray, None, or tuple of ndarray and None, optional\n",
      "    A location into which the result is stored. If provided, it must have\n",
      "    a shape that the inputs broadcast to. If not provided or None,\n",
      "    a freshly-allocated array is returned. A tuple (possible only as a\n",
      "    keyword argument) must have length equal to the number of outputs.\n",
      "where : array_like, optional\n",
      "    This condition is broadcast over the input. At locations where the\n",
      "    condition is True, the `out` array will be set to the ufunc result.\n",
      "    Elsewhere, the `out` array will retain its original value.\n",
      "    Note that if an uninitialized `out` array is created via the default\n",
      "    ``out=None``, locations within it where the condition is False will\n",
      "    remain uninitialized.\n",
      "**kwargs\n",
      "    For other keyword-only arguments, see the\n",
      "    :ref:`ufunc docs <ufuncs.kwargs>`.\n",
      "\n",
      "Returns\n",
      "-------\n",
      "add : ndarray or scalar\n",
      "    The sum of `x1` and `x2`, element-wise.\n",
      "    This is a scalar if both `x1` and `x2` are scalars.\n",
      "\n",
      "Notes\n",
      "-----\n",
      "Equivalent to `x1` + `x2` in terms of array broadcasting.\n",
      "\n",
      "Examples\n",
      "--------\n",
      ">>> np.add(1.0, 4.0)\n",
      "5.0\n",
      ">>> x1 = np.arange(9.0).reshape((3, 3))\n",
      ">>> x2 = np.arange(3.0)\n",
      ">>> np.add(x1, x2)\n",
      "array([[  0.,   2.,   4.],\n",
      "       [  3.,   5.,   7.],\n",
      "       [  6.,   8.,  10.]])\n",
      "\n",
      "The ``+`` operator can be used as a shorthand for ``np.add`` on ndarrays.\n",
      "\n",
      ">>> x1 = np.arange(9.0).reshape((3, 3))\n",
      ">>> x2 = np.arange(3.0)\n",
      ">>> x1 + x2\n",
      "array([[ 0.,  2.,  4.],\n",
      "       [ 3.,  5.,  7.],\n",
      "       [ 6.,  8., 10.]])\n",
      "None\n"
     ]
    }
   ],
   "source": [
    "print(np.info(np.add))"
   ]
  },
  {
   "cell_type": "markdown",
   "metadata": {},
   "source": [
    "#### 6. Create a null vector of size 10 but the fifth value which is 1 (★☆☆)"
   ]
  },
  {
   "cell_type": "code",
   "execution_count": 9,
   "metadata": {},
   "outputs": [
    {
     "name": "stdout",
     "output_type": "stream",
     "text": [
      "[0. 0. 0. 0. 1. 0. 0. 0. 0. 0.]\n"
     ]
    }
   ],
   "source": [
    "v1 = np.zeros(10)\n",
    "v1[4] = 1\n",
    "print(v1)"
   ]
  },
  {
   "cell_type": "markdown",
   "metadata": {},
   "source": [
    "#### 7. Create a vector with values ranging from 10 to 49 (★☆☆)"
   ]
  },
  {
   "cell_type": "code",
   "execution_count": 10,
   "metadata": {},
   "outputs": [
    {
     "name": "stdout",
     "output_type": "stream",
     "text": [
      "[10 11 12 13 14 15 16 17 18 19 20 21 22 23 24 25 26 27 28 29 30 31 32 33\n",
      " 34 35 36 37 38 39 40 41 42 43 44 45 46 47 48 49]\n"
     ]
    }
   ],
   "source": [
    "v1 = np.arange(10, 50)\n",
    "print(v1)"
   ]
  },
  {
   "cell_type": "markdown",
   "metadata": {},
   "source": [
    "#### 8. Reverse a vector (first element becomes last) (★☆☆)"
   ]
  },
  {
   "cell_type": "code",
   "execution_count": 11,
   "metadata": {},
   "outputs": [
    {
     "name": "stdout",
     "output_type": "stream",
     "text": [
      "[49 48 47 46 45 44 43 42 41 40 39 38 37 36 35 34 33 32 31 30 29 28 27 26\n",
      " 25 24 23 22 21 20 19 18 17 16 15 14 13 12 11 10]\n"
     ]
    }
   ],
   "source": [
    "for i in range(int(len(v1) / 2)):\n",
    "    tmp = v1[i]\n",
    "    v1[i] = v1[len(v1) - 1 - i]\n",
    "    v1[len(v1) - 1 - i] = tmp\n",
    "print(v1)"
   ]
  },
  {
   "cell_type": "markdown",
   "metadata": {},
   "source": [
    "#### 9. Create a 3x3 matrix with values ranging from 0 to 8 (★☆☆)"
   ]
  },
  {
   "cell_type": "code",
   "execution_count": 12,
   "metadata": {},
   "outputs": [
    {
     "name": "stdout",
     "output_type": "stream",
     "text": [
      "[[0 1 2]\n",
      " [3 4 5]\n",
      " [6 7 8]]\n"
     ]
    }
   ],
   "source": [
    "mat1 = np.arange(0, 9).reshape(3, 3)\n",
    "print(mat1)"
   ]
  },
  {
   "cell_type": "markdown",
   "metadata": {},
   "source": [
    "#### 10. Find indices of non-zero elements from [1,2,0,0,4,0] (★☆☆)"
   ]
  },
  {
   "cell_type": "code",
   "execution_count": 13,
   "metadata": {},
   "outputs": [
    {
     "name": "stdout",
     "output_type": "stream",
     "text": [
      "[2, 3, 5]\n"
     ]
    }
   ],
   "source": [
    "v1 = np.array([1,2,0,0,4,0])\n",
    "res=[]\n",
    "for i in range(len(v1)):\n",
    "    if v1[i] == 0:\n",
    "        res.append(i)\n",
    "print(res)"
   ]
  },
  {
   "cell_type": "markdown",
   "metadata": {},
   "source": [
    "#### 11. Create a 3x3 identity matrix (★☆☆)"
   ]
  },
  {
   "cell_type": "code",
   "execution_count": 14,
   "metadata": {},
   "outputs": [
    {
     "name": "stdout",
     "output_type": "stream",
     "text": [
      "[[1. 0. 0.]\n",
      " [0. 1. 0.]\n",
      " [0. 0. 1.]]\n"
     ]
    }
   ],
   "source": [
    "id1 = np.eye(3)\n",
    "print(id1)"
   ]
  },
  {
   "cell_type": "markdown",
   "metadata": {},
   "source": [
    "#### 12. Create a 3x3x3 array with random values (★☆☆)"
   ]
  },
  {
   "cell_type": "code",
   "execution_count": 15,
   "metadata": {},
   "outputs": [
    {
     "name": "stdout",
     "output_type": "stream",
     "text": [
      "[[[ 0.20437166  1.27433687  0.60423838]\n",
      "  [ 0.37378903 -2.10895267 -0.05108117]\n",
      "  [-1.02301133  1.55973632 -0.05069938]]\n",
      "\n",
      " [[-1.5856936  -0.90512048  1.48382157]\n",
      "  [-1.27978134  1.53386121 -0.59167575]\n",
      "  [-0.6989597  -0.49987877 -1.23799825]]\n",
      "\n",
      " [[-0.51190364 -0.62888122 -0.38191208]\n",
      "  [ 1.13805774  0.11445629  0.25738408]\n",
      "  [-0.24983392 -0.99867775 -1.05295352]]]\n"
     ]
    }
   ],
   "source": [
    "v2 = np.random.randn(27).reshape(3, 3, 3)\n",
    "print(v2)"
   ]
  },
  {
   "cell_type": "markdown",
   "metadata": {},
   "source": [
    "#### 13. Create a 10x10 array with random values and find the minimum and maximum values (★☆☆)"
   ]
  },
  {
   "cell_type": "code",
   "execution_count": 16,
   "metadata": {},
   "outputs": [
    {
     "name": "stdout",
     "output_type": "stream",
     "text": [
      "[+] MaxNum:  0.9956786522901505  MinNum:  0.0016086506971596526\n"
     ]
    }
   ],
   "source": [
    "v1 = np.random.rand(100).reshape(10, 10)\n",
    "maxNum = v1.max()\n",
    "minNum = v1.min()\n",
    "print(\"[+] MaxNum: \", maxNum, \" MinNum: \", minNum)"
   ]
  },
  {
   "cell_type": "markdown",
   "metadata": {},
   "source": [
    "#### 14. Create a random vector of size 30 and find the mean value (★☆☆)"
   ]
  },
  {
   "cell_type": "code",
   "execution_count": 17,
   "metadata": {},
   "outputs": [
    {
     "name": "stdout",
     "output_type": "stream",
     "text": [
      "0.4151738444219063\n"
     ]
    }
   ],
   "source": [
    "meanVal = np.random.rand(30).mean()\n",
    "print(meanVal)"
   ]
  },
  {
   "cell_type": "markdown",
   "metadata": {},
   "source": [
    "#### 15. Create a 2d array with 1 on the border and 0 inside (★☆☆)"
   ]
  },
  {
   "cell_type": "code",
   "execution_count": 18,
   "metadata": {},
   "outputs": [
    {
     "name": "stdout",
     "output_type": "stream",
     "text": [
      "[[ 1  1  1  1  1]\n",
      " [ 1  6  7  8  1]\n",
      " [ 1 11 12 13  1]\n",
      " [ 1 16 17 18  1]\n",
      " [ 1  1  1  1  1]]\n"
     ]
    }
   ],
   "source": [
    "mat1 = np.arange(0, 25).reshape(5, 5)\n",
    "l1, l2 = 0, len(mat1[0]) - 1\n",
    "w1, w2 = 0, len(mat1) - 1\n",
    "\n",
    "\n",
    "for l in range(l1, l2 + 1):\n",
    "    mat1[w1][l] = 1\n",
    "for w in range(w1, w2 + 1):\n",
    "    mat1[w][l2] = 1\n",
    "for l in range(l2, l1 - 1, -1):\n",
    "    mat1[w2][l] = 1\n",
    "for w in range(w2, w1 - 1, -1):\n",
    "    mat1[w][l1] = 1\n",
    "\n",
    "print(mat1)"
   ]
  },
  {
   "cell_type": "markdown",
   "metadata": {},
   "source": [
    "#### 16. How to add a border (filled with 0's) around an existing array? (★☆☆)"
   ]
  },
  {
   "cell_type": "code",
   "execution_count": 19,
   "metadata": {},
   "outputs": [
    {
     "name": "stdout",
     "output_type": "stream",
     "text": [
      "[[1 2 3]\n",
      " [4 5 6]\n",
      " [7 8 9]]\n",
      "\n",
      "[[0 0 0 0]\n",
      " [0 0 0 0]\n",
      " [0 1 2 3]\n",
      " [0 4 5 6]\n",
      " [0 7 8 9]\n",
      " [0 0 0 0]\n",
      " [0 0 0 0]\n",
      " [0 0 0 0]]\n"
     ]
    }
   ],
   "source": [
    "mat1 = np.arange(1, 10).reshape(3, 3)\n",
    "print(mat1, end='\\n\\n')\n",
    "\n",
    "mat1 = np.pad(mat1, ((2, 3), (1, 0)), mode='constant', constant_values= 0)\n",
    "print(mat1)"
   ]
  },
  {
   "cell_type": "markdown",
   "metadata": {},
   "source": [
    "#### 17. What is the result of the following expression? (★☆☆)\n",
    "```python\n",
    "0 * np.nan\n",
    "np.nan == np.nan\n",
    "np.inf > np.nan\n",
    "np.nan - np.nan\n",
    "np.nan in set([np.nan])\n",
    "0.3 == 3 * 0.1\n",
    "```"
   ]
  },
  {
   "cell_type": "code",
   "execution_count": 20,
   "metadata": {},
   "outputs": [
    {
     "name": "stdout",
     "output_type": "stream",
     "text": [
      "<class 'float'>\n",
      "<class 'float'>\n",
      "Yes\n",
      "Yes\n"
     ]
    }
   ],
   "source": [
    "v1 = np.nan\n",
    "print(type(v1))\n",
    "print(type(np.nan))\n",
    "\n",
    "# NaN (Not a Number) represents an undefined or unrepresentable value in floating-point arithmetic.\n",
    "# It's not equal to any other value, including itself.\n",
    "\n",
    "# The == operator performs value comparison.\n",
    "# NaN (Not a Number) is defined as not equal to any v\n",
    "\n",
    "# The \"is\" operator performs identity comparison.\n",
    "# It checks if two objects refer to the exact same memory location.\n",
    "\n",
    "# In many Python implementations, np.nan is often a singleton object, \n",
    "# meaning there's only one instance of it in memory.\n",
    "\n",
    "if v1 == v1:\n",
    "    print(\"Yes\")\n",
    "\n",
    "if np.nan == np.nan:\n",
    "    print(\"Yes\")\n",
    "\n",
    "if np.nan is np.nan:\n",
    "    print(\"Yes\")\n",
    "\n",
    "if np.isnan(v1):\n",
    "    print(\"Yes\")\n"
   ]
  },
  {
   "cell_type": "markdown",
   "metadata": {},
   "source": [
    "#### 18. Create a 5x5 matrix with values 1,2,3,4 just below the diagonal (★☆☆)"
   ]
  },
  {
   "cell_type": "code",
   "execution_count": 21,
   "metadata": {},
   "outputs": [
    {
     "name": "stdout",
     "output_type": "stream",
     "text": [
      "[[0. 0. 0. 0. 0.]\n",
      " [0. 0. 0. 0. 0.]\n",
      " [1. 2. 0. 0. 0.]\n",
      " [3. 4. 5. 0. 0.]\n",
      " [6. 7. 8. 9. 0.]]\n"
     ]
    }
   ],
   "source": [
    "mat1 = np.zeros(25).reshape(5, 5)\n",
    "count = 0\n",
    "\n",
    "for i in range (len(mat1)):\n",
    "    for j in range(len(mat1[0])):\n",
    "        if (i > j):\n",
    "            mat1[i][j] = count\n",
    "            count += 1\n",
    "print(mat1)"
   ]
  },
  {
   "cell_type": "markdown",
   "metadata": {},
   "source": [
    "#### 19. Create a 8x8 matrix and fill it with a checkerboard pattern (★☆☆)"
   ]
  },
  {
   "cell_type": "code",
   "execution_count": 22,
   "metadata": {},
   "outputs": [
    {
     "name": "stdout",
     "output_type": "stream",
     "text": [
      "[[0. 1. 0. 1. 0. 1. 0. 1.]\n",
      " [1. 0. 1. 0. 1. 0. 1. 0.]\n",
      " [0. 1. 0. 1. 0. 1. 0. 1.]\n",
      " [1. 0. 1. 0. 1. 0. 1. 0.]\n",
      " [0. 1. 0. 1. 0. 1. 0. 1.]\n",
      " [1. 0. 1. 0. 1. 0. 1. 0.]\n",
      " [0. 1. 0. 1. 0. 1. 0. 1.]\n",
      " [1. 0. 1. 0. 1. 0. 1. 0.]]\n"
     ]
    }
   ],
   "source": [
    "mat1 = np.zeros(64).reshape(8, 8)\n",
    "count = 1\n",
    "\n",
    "for i in range(len(mat1)):\n",
    "    if (count % 2 == 0):\n",
    "        count = 1\n",
    "    else:\n",
    "        count = 0\n",
    "    for j in range(len(mat1[0])):\n",
    "        if (count % 2 == 0):\n",
    "            mat1[i][j] = 0\n",
    "        else:\n",
    "            mat1[i][j] = 1\n",
    "        count += 1\n",
    "\n",
    "print(mat1)"
   ]
  },
  {
   "cell_type": "markdown",
   "metadata": {},
   "source": [
    "#### 20. Consider a (6,7,8) shape array, what is the index (x,y,z) of the 100th element? (★☆☆)"
   ]
  },
  {
   "cell_type": "code",
   "execution_count": 23,
   "metadata": {},
   "outputs": [
    {
     "name": "stdout",
     "output_type": "stream",
     "text": [
      "110\n",
      "(1, 5, 3)\n"
     ]
    }
   ],
   "source": [
    "# index would be (1,5,3)\n",
    "v2 = np.arange(11, 347).reshape(6, 7, 8)\n",
    "print(v2[1][5][3])\n",
    "\n",
    "# Using unravel_index\n",
    "flatIndx = 99 #(c-style indexing so 100th element is at flat_index:99)\n",
    "idx = np.unravel_index(flatIndx, (6, 7, 8))\n",
    "print(idx)"
   ]
  },
  {
   "cell_type": "markdown",
   "metadata": {},
   "source": [
    "#### 21. Create a checkerboard 8x8 matrix using the tile function (★☆☆)"
   ]
  },
  {
   "cell_type": "code",
   "execution_count": 24,
   "metadata": {},
   "outputs": [
    {
     "name": "stdout",
     "output_type": "stream",
     "text": [
      "[[1 2]\n",
      " [3 4]]\n",
      "\n",
      "[[1 2]\n",
      " [3 4]\n",
      " [1 2]\n",
      " [3 4]\n",
      " [1 2]\n",
      " [3 4]]\n"
     ]
    }
   ],
   "source": [
    "v1 = np.arange(1, 5).reshape(2, 2)\n",
    "print(v1, end='\\n\\n')\n",
    "\n",
    "v1 = np.tile(v1, ((3, 1))) # 3 times niche and 1 time side mei\n",
    "print(v1)"
   ]
  },
  {
   "cell_type": "markdown",
   "metadata": {},
   "source": [
    "#### 32. Is the following expressions true? (★☆☆)\n",
    "```python\n",
    "np.sqrt(-1) == np.emath.sqrt(-1)\n",
    "```"
   ]
  },
  {
   "cell_type": "code",
   "execution_count": 25,
   "metadata": {},
   "outputs": [
    {
     "name": "stdout",
     "output_type": "stream",
     "text": [
      "No\n"
     ]
    },
    {
     "name": "stderr",
     "output_type": "stream",
     "text": [
      "/var/folders/2v/33p_wnzd3gj0lfp0r82qrhl00000gp/T/ipykernel_5561/1652928068.py:1: RuntimeWarning: invalid value encountered in sqrt\n",
      "  if np.sqrt(-1) == np.emath.sqrt(-1): # nan != j\n"
     ]
    }
   ],
   "source": [
    "if np.sqrt(-1) == np.emath.sqrt(-1): # nan != j\n",
    "    print(\"Yes\")\n",
    "else:\n",
    "    print(\"No\")"
   ]
  },
  {
   "cell_type": "markdown",
   "metadata": {},
   "source": [
    "#### 33. How to get the dates of yesterday, today and tomorrow? (★☆☆)"
   ]
  },
  {
   "cell_type": "code",
   "execution_count": 26,
   "metadata": {},
   "outputs": [
    {
     "data": {
      "text/plain": [
       "numpy.datetime64('2024-02-05')"
      ]
     },
     "execution_count": 26,
     "metadata": {},
     "output_type": "execute_result"
    }
   ],
   "source": [
    "yesterday = np.datetime64('today') - np.timedelta64(1,'D')\n",
    "today = np.datetime64('today')\n",
    "tomorrow = np.datetime64('today') - np.timedelta64(1, 'D')\n",
    "yesterday"
   ]
  },
  {
   "cell_type": "markdown",
   "metadata": {},
   "source": [
    "#### 34. How to get all the dates corresponding to the month of July 2016? (★★☆)"
   ]
  },
  {
   "cell_type": "code",
   "execution_count": 27,
   "metadata": {},
   "outputs": [
    {
     "data": {
      "text/plain": [
       "array(['2016-07-01', '2016-07-02', '2016-07-03', '2016-07-04',\n",
       "       '2016-07-05', '2016-07-06', '2016-07-07', '2016-07-08',\n",
       "       '2016-07-09', '2016-07-10', '2016-07-11', '2016-07-12',\n",
       "       '2016-07-13', '2016-07-14', '2016-07-15', '2016-07-16',\n",
       "       '2016-07-17', '2016-07-18', '2016-07-19', '2016-07-20',\n",
       "       '2016-07-21', '2016-07-22', '2016-07-23', '2016-07-24',\n",
       "       '2016-07-25', '2016-07-26', '2016-07-27', '2016-07-28',\n",
       "       '2016-07-29', '2016-07-30', '2016-07-31'], dtype='datetime64[D]')"
      ]
     },
     "execution_count": 27,
     "metadata": {},
     "output_type": "execute_result"
    }
   ],
   "source": [
    "startDate = np.datetime64('2016-07-01')\n",
    "endDate = np.datetime64('2016-08-01')\n",
    "np.arange(startDate, endDate, dtype='datetime64[D]')"
   ]
  },
  {
   "cell_type": "markdown",
   "metadata": {},
   "source": [
    "#### 35. How to compute ((A+B)*(-A/2)) in place (without copy)? (★★☆)"
   ]
  },
  {
   "cell_type": "code",
   "execution_count": 28,
   "metadata": {},
   "outputs": [
    {
     "data": {
      "text/plain": [
       "array([-1., -1., -1.])"
      ]
     },
     "execution_count": 28,
     "metadata": {},
     "output_type": "execute_result"
    }
   ],
   "source": [
    "a = np.ones(3)\n",
    "b = np.ones(3)\n",
    "((a + b) * (-a/2))"
   ]
  },
  {
   "cell_type": "markdown",
   "metadata": {},
   "source": [
    "#### 36. Extract the integer part of a random array of positive numbers using 4 different methods (★★☆)"
   ]
  },
  {
   "cell_type": "code",
   "execution_count": 29,
   "metadata": {},
   "outputs": [
    {
     "name": "stdout",
     "output_type": "stream",
     "text": [
      "[13.48472873 61.80678124 64.26415555 83.05215561 94.4300972  55.31424167\n",
      " 39.86640565 71.09122879 91.72034896 47.61098821]\n",
      "[13. 61. 64. 83. 94. 55. 39. 71. 91. 47.]\n",
      "[13 61 64 83 94 55 39 71 91 47]\n"
     ]
    }
   ],
   "source": [
    "arr = np.random.uniform(low=0, high=100, size=10)\n",
    "print(arr)\n",
    "\n",
    "a1 = np.floor(arr)\n",
    "a2 = arr.astype(int)\n",
    "\n",
    "print(a1)\n",
    "print(a2)"
   ]
  },
  {
   "cell_type": "markdown",
   "metadata": {},
   "source": [
    "#### 37. Create a 5x5 matrix with row values ranging from 0 to 4 (★★☆)"
   ]
  },
  {
   "cell_type": "code",
   "execution_count": 30,
   "metadata": {},
   "outputs": [
    {
     "data": {
      "text/plain": [
       "array([[0., 1., 2., 3., 4.],\n",
       "       [0., 1., 2., 3., 4.],\n",
       "       [0., 1., 2., 3., 4.],\n",
       "       [0., 1., 2., 3., 4.],\n",
       "       [0., 1., 2., 3., 4.]])"
      ]
     },
     "execution_count": 30,
     "metadata": {},
     "output_type": "execute_result"
    }
   ],
   "source": [
    "arr = np.zeros((5, 5))\n",
    "addArr = np.arange(5)\n",
    "arr + addArr"
   ]
  },
  {
   "cell_type": "markdown",
   "metadata": {},
   "source": [
    "#### 38. Consider a generator function that generates 10 integers and use it to build an array (★☆☆)"
   ]
  },
  {
   "cell_type": "code",
   "execution_count": 31,
   "metadata": {},
   "outputs": [
    {
     "data": {
      "text/plain": [
       "array([6, 5, 5, 6, 5, 6, 3, 5, 5, 6])"
      ]
     },
     "execution_count": 31,
     "metadata": {},
     "output_type": "execute_result"
    }
   ],
   "source": [
    "np.random.randint(low=0, high=10, size=10)"
   ]
  },
  {
   "cell_type": "markdown",
   "metadata": {},
   "source": [
    "#### 39. Create a vector of size 10 with values ranging from 0 to 1, both excluded (★★☆)"
   ]
  },
  {
   "cell_type": "markdown",
   "metadata": {},
   "source": [
    "np.linspace(0, 1, 11)[1:]"
   ]
  },
  {
   "cell_type": "markdown",
   "metadata": {},
   "source": [
    "#### 40. Create a random vector of size 10 and sort it (★★☆)"
   ]
  },
  {
   "cell_type": "code",
   "execution_count": 32,
   "metadata": {},
   "outputs": [
    {
     "data": {
      "text/plain": [
       "array([0.10577261, 0.29764885, 0.30542913, 0.32228657, 0.41121976,\n",
       "       0.45412424, 0.50068288, 0.85683837, 0.8786029 , 0.88166813])"
      ]
     },
     "execution_count": 32,
     "metadata": {},
     "output_type": "execute_result"
    }
   ],
   "source": [
    "arr = np.sort(np.random.rand(10))\n",
    "arr"
   ]
  },
  {
   "cell_type": "markdown",
   "metadata": {},
   "source": [
    "#### 41. How to sum a small array faster than np.sum? (★★☆)"
   ]
  },
  {
   "cell_type": "code",
   "execution_count": 33,
   "metadata": {},
   "outputs": [
    {
     "data": {
      "text/plain": [
       "5.014273436222765"
      ]
     },
     "execution_count": 33,
     "metadata": {},
     "output_type": "execute_result"
    }
   ],
   "source": [
    "np.add.reduce(arr)"
   ]
  },
  {
   "cell_type": "markdown",
   "metadata": {},
   "source": [
    "#### 42. Consider two random array A and B, check if they are equal (★★☆)"
   ]
  },
  {
   "cell_type": "code",
   "execution_count": 34,
   "metadata": {},
   "outputs": [
    {
     "data": {
      "text/plain": [
       "False"
      ]
     },
     "execution_count": 34,
     "metadata": {},
     "output_type": "execute_result"
    }
   ],
   "source": [
    "a = np.random.rand(5)\n",
    "b = np.random.rand(5)\n",
    "\n",
    "np.array_equal(a, b)"
   ]
  },
  {
   "cell_type": "markdown",
   "metadata": {},
   "source": [
    "#### 43. Make an array immutable (read-only) (★★☆)"
   ]
  },
  {
   "cell_type": "code",
   "execution_count": 35,
   "metadata": {},
   "outputs": [
    {
     "name": "stdout",
     "output_type": "stream",
     "text": [
      "Array is read-only\n"
     ]
    }
   ],
   "source": [
    "# true immutability isn't directly achievable like it is with Python strings or tuples. However, you\n",
    "# can employ several techniques to effectively restrict or prevent modifications and achieve a state\n",
    "# close to immutability\n",
    "\n",
    "arr = np.arange(5)\n",
    "arr.flags.writeable = False\n",
    "\n",
    "try:\n",
    "    arr[0] = 1\n",
    "except ValueError:\n",
    "    print(\"Array is read-only\")"
   ]
  },
  {
   "cell_type": "markdown",
   "metadata": {},
   "source": [
    "#### 70. Consider the vector [1, 2, 3, 4, 5], how to build a new vector with 3 consecutive zeros interleaved between each value? (★★★)"
   ]
  },
  {
   "cell_type": "code",
   "execution_count": 36,
   "metadata": {},
   "outputs": [
    {
     "name": "stdout",
     "output_type": "stream",
     "text": [
      "[0. 0. 0. 1.]\n",
      "[0. 0. 0. 1. 0. 0. 0. 2.]\n",
      "[0. 0. 0. 1. 0. 0. 0. 2. 0. 0. 0. 3.]\n",
      "[0. 0. 0. 1. 0. 0. 0. 2. 0. 0. 0. 3. 0. 0. 0. 4.]\n",
      "[0. 0. 0. 1. 0. 0. 0. 2. 0. 0. 0. 3. 0. 0. 0. 4. 0. 0. 0. 5.]\n"
     ]
    }
   ],
   "source": [
    "arr = np.arange(1, 6)\n",
    "new_arr = np.array([])\n",
    "\n",
    "for i in range(len(arr)):\n",
    "    new_arr= np.concatenate((new_arr[:4 * i], [0,0,0,i + 1], new_arr[4 * i:]))\n",
    "    print(new_arr)"
   ]
  },
  {
   "cell_type": "markdown",
   "metadata": {},
   "source": [
    "#### 71. Consider an array of dimension (5,5,3), how to mulitply it by an array with dimensions (5,5)? (★★★)"
   ]
  },
  {
   "cell_type": "code",
   "execution_count": 37,
   "metadata": {},
   "outputs": [
    {
     "data": {
      "text/plain": [
       "array([[[ 0.        ,  0.        ,  0.        ],\n",
       "        [ 0.49533042,  0.79254207,  0.10201936],\n",
       "        [ 0.02365016,  1.47465772,  1.43805149],\n",
       "        [ 1.26462454,  2.8077074 ,  1.81174856],\n",
       "        [ 2.97840909,  1.01474261,  2.80906749]],\n",
       "\n",
       "       [[ 0.49515066,  2.37419798,  1.03577398],\n",
       "        [ 0.89278746,  3.04892193,  1.80330556],\n",
       "        [ 0.51653033,  5.25392919,  2.82144918],\n",
       "        [ 5.07829474,  1.25046716,  7.24471451],\n",
       "        [ 5.43724965,  8.05151863,  1.88189866]],\n",
       "\n",
       "       [[ 4.80764071,  9.38333378,  3.59382364],\n",
       "        [ 1.57294295,  8.25578886,  5.21375052],\n",
       "        [10.46331955, 10.30208623,  3.40180024],\n",
       "        [11.21579662, 10.9310907 , 10.21982682],\n",
       "        [ 4.47694762,  0.13316595,  4.62521642]],\n",
       "\n",
       "       [[ 8.05726547,  3.81348892,  0.22453405],\n",
       "        [15.15914323,  4.93775847,  0.17284037],\n",
       "        [12.74396669,  2.39902831, 11.4531084 ],\n",
       "        [15.82704051,  7.83038853,  2.82181764],\n",
       "        [12.19010746, 17.43831243,  3.13858335]],\n",
       "\n",
       "       [[ 5.55280925,  4.42436589,  5.43452943],\n",
       "        [16.52830688,  9.60150185,  7.47080964],\n",
       "        [ 4.87520112,  3.28786211, 18.63592158],\n",
       "        [ 6.44397396, 18.83374424, 19.61581667],\n",
       "        [ 4.55749638,  8.78666635, 16.05312494]]])"
      ]
     },
     "execution_count": 37,
     "metadata": {},
     "output_type": "execute_result"
    }
   ],
   "source": [
    "arr1 = np.random.rand(75).reshape(5, 5, 3)\n",
    "arr2 = np.arange(25).reshape(5, 5, 1)\n",
    "\n",
    "arr1 * arr2 # element-wise multiplication"
   ]
  },
  {
   "cell_type": "markdown",
   "metadata": {},
   "source": [
    "#### 72. How to swap two rows of an array? (★★★)"
   ]
  },
  {
   "cell_type": "code",
   "execution_count": 38,
   "metadata": {},
   "outputs": [
    {
     "data": {
      "text/plain": [
       "array([[3, 4, 5],\n",
       "       [0, 1, 2],\n",
       "       [6, 7, 8]])"
      ]
     },
     "execution_count": 38,
     "metadata": {},
     "output_type": "execute_result"
    }
   ],
   "source": [
    "arr = np.arange(9).reshape(3, 3)\n",
    "tmp = arr[0].copy()\n",
    "arr[0] = arr[1]\n",
    "arr[1] = tmp\n",
    "arr"
   ]
  },
  {
   "cell_type": "markdown",
   "metadata": {},
   "source": [
    "#### 74. Given a sorted array C that corresponds to a bincount, how to produce an array A such that np.bincount(A) == C? (★★★)"
   ]
  },
  {
   "cell_type": "code",
   "execution_count": 39,
   "metadata": {},
   "outputs": [
    {
     "data": {
      "text/plain": [
       "[0, 1, 1, 1, 2, 2, 2, 2, 3, 3, 3, 3]"
      ]
     },
     "execution_count": 39,
     "metadata": {},
     "output_type": "execute_result"
    }
   ],
   "source": [
    "c = [1,3,4,4]\n",
    "a = []\n",
    "\n",
    "for i in range(len(c)):\n",
    "    for j in range(c[i]):\n",
    "        a.append(i)\n",
    "a"
   ]
  },
  {
   "cell_type": "markdown",
   "metadata": {},
   "source": [
    "#### 75. How to compute averages using a sliding window over an array? (★★★)"
   ]
  },
  {
   "cell_type": "code",
   "execution_count": 40,
   "metadata": {},
   "outputs": [
    {
     "data": {
      "text/plain": [
       "[2.6666666666666665,\n",
       " 4.0,\n",
       " 5.333333333333333,\n",
       " 7.666666666666667,\n",
       " 10.333333333333334,\n",
       " 12.0,\n",
       " 12.333333333333334]"
      ]
     },
     "execution_count": 40,
     "metadata": {},
     "output_type": "execute_result"
    }
   ],
   "source": [
    "window_size = 3\n",
    "arr = [1,3,4,5,7,11,13,12,12]\n",
    "movingAvg = []\n",
    "\n",
    "for i in range(len(arr) - window_size + 1):\n",
    "    sum = 0\n",
    "    for j in range(i, i + window_size):\n",
    "        sum += arr[j]\n",
    "    movingAvg.append(sum / window_size)\n",
    "movingAvg"
   ]
  },
  {
   "cell_type": "markdown",
   "metadata": {},
   "source": [
    "#### 76. Consider a one-dimensional array Z, build a two-dimensional array whose first row is (Z[0],Z[1],Z[2]) and each subsequent row is  shifted by 1 (last row should be (Z[-3],Z[-2],Z[-1]) (★★★)"
   ]
  },
  {
   "cell_type": "code",
   "execution_count": 41,
   "metadata": {},
   "outputs": [
    {
     "data": {
      "text/plain": [
       "[[1, 2, 3], [4, 5, 6], [7, 8, 9]]"
      ]
     },
     "execution_count": 41,
     "metadata": {},
     "output_type": "execute_result"
    }
   ],
   "source": [
    "z = [1,2,3,4,5,6,7,8,9]\n",
    "arr = []\n",
    "\n",
    "for i in range(0, len(z) - 3 + 1, 3):\n",
    "    arr.append([z[i], z[i + 1], z[i + 2]])\n",
    "arr"
   ]
  },
  {
   "cell_type": "markdown",
   "metadata": {},
   "source": [
    "#### 77. How to negate a boolean, or to change the sign of a float inplace? (★★★)"
   ]
  },
  {
   "cell_type": "code",
   "execution_count": 42,
   "metadata": {},
   "outputs": [
    {
     "name": "stdout",
     "output_type": "stream",
     "text": [
      "[+] Boolean:  False  floatVal:  -5.04\n"
     ]
    }
   ],
   "source": [
    "boolVar = True\n",
    "boolVar = not boolVar\n",
    "\n",
    "floatVal = 5.04\n",
    "floatVal *= -1\n",
    "\n",
    "print(\"[+] Boolean: \", boolVar, \" floatVal: \", floatVal)"
   ]
  },
  {
   "cell_type": "markdown",
   "metadata": {},
   "source": [
    "#### 78. Consider 2 sets of points P0,P1 describing lines (2d) and a point p, how to compute distance from p to each line i (P0[i],P1[i])? (★★★)"
   ]
  },
  {
   "cell_type": "code",
   "execution_count": 43,
   "metadata": {},
   "outputs": [],
   "source": [
    "def calcDist(l1, l2, pt):\n",
    "    a = l2[1] - l1[1]\n",
    "    b = l2[0] - l1[0]\n",
    "    c = l2[0] * l1[1] - l1[0] * l2[1]\n",
    "\n",
    "    dist = abs(a * pt[0] + b * pt[1] + c) / math.sqrt(a**2 + b**2)\n",
    "    return dist"
   ]
  },
  {
   "cell_type": "code",
   "execution_count": 44,
   "metadata": {},
   "outputs": [
    {
     "data": {
      "text/plain": [
       "[7.602631123499284, 12.020815280171309, 9.470462247029646]"
      ]
     },
     "execution_count": 44,
     "metadata": {},
     "output_type": "execute_result"
    }
   ],
   "source": [
    "p0 = [[0,0], [5,10], [2,2]]\n",
    "p1 = [[1,2], [8,13], [7,4]]\n",
    "pt = [5, 7]\n",
    "\n",
    "# Formula for perpendicular distance : | ax1 + by1 + c| / sqrt(a^2 + b^2)\n",
    "# a = y2 - y1, b = x2 - x1, c = x2y1 - x1y2\n",
    "# where (x1, y1) and (x2, y2) are the two points between which the line is drawn\n",
    "dist = []\n",
    "\n",
    "for i in range(len(p0)):\n",
    "    dist.append(calcDist(p0[i], p1[i], pt))\n",
    "dist"
   ]
  },
  {
   "cell_type": "markdown",
   "metadata": {},
   "source": [
    "#### 79. Consider 2 sets of points P0,P1 describing lines (2d) and a set of points P, how to compute distance from each point j (P[j]) to each line i (P0[i],P1[i])? (★★★)"
   ]
  },
  {
   "cell_type": "code",
   "execution_count": 45,
   "metadata": {},
   "outputs": [
    {
     "data": {
      "text/plain": [
       "[16.54690303349844, 12.020815280171309, 13.92715036327889]"
      ]
     },
     "execution_count": 45,
     "metadata": {},
     "output_type": "execute_result"
    }
   ],
   "source": [
    "pt = [[12,13], [3,9], [7,11]]\n",
    "dist = []\n",
    "\n",
    "for i in range(len(p0)):\n",
    "    dist.append(calcDist(p0[i], p1[i], pt[i]))\n",
    "dist"
   ]
  },
  {
   "cell_type": "markdown",
   "metadata": {},
   "source": [
    "#### 80. Consider an arbitrary array, write a function that extract a subpart with a fixed shape and centered on a given element (pad with a `fill` value when necessary) (★★★)"
   ]
  },
  {
   "cell_type": "code",
   "execution_count": 46,
   "metadata": {},
   "outputs": [
    {
     "data": {
      "text/plain": [
       "[[5, 6, 0], [8, 9, 0]]"
      ]
     },
     "execution_count": 46,
     "metadata": {},
     "output_type": "execute_result"
    }
   ],
   "source": [
    "arr = np.arange(1, 10).reshape(3, 3)\n",
    "subPartDimension = (2, 3)\n",
    "startPos = (1, 1)\n",
    "res = []\n",
    "\n",
    "for i in range(startPos[0], startPos[0] + subPartDimension[0]):\n",
    "    subArr=[]\n",
    "    for j in range(startPos[1], startPos[1] + subPartDimension[1]):\n",
    "        if ((i >= len(arr)) or j >= (len(arr[0]))):\n",
    "            subArr.append(0)\n",
    "        else:\n",
    "            subArr.append(arr[i][j])\n",
    "    res.append(subArr)\n",
    "res"
   ]
  }
 ],
 "metadata": {
  "kernelspec": {
   "display_name": "base",
   "language": "python",
   "name": "python3"
  },
  "language_info": {
   "codemirror_mode": {
    "name": "ipython",
    "version": 3
   },
   "file_extension": ".py",
   "mimetype": "text/x-python",
   "name": "python",
   "nbconvert_exporter": "python",
   "pygments_lexer": "ipython3",
   "version": "3.11.5"
  }
 },
 "nbformat": 4,
 "nbformat_minor": 2
}
